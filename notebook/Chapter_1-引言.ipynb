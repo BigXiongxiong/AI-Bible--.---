{
 "cells": [
  {
   "cell_type": "markdown",
   "metadata": {},
   "source": [
    "# Introduction"
   ]
  },
  {
   "cell_type": "markdown",
   "metadata": {},
   "source": [
    "   人工智能真正的挑战在于解决那些对人来说很容易执行、但很难形式化描述的任务，如识别人们所说的话或图像中的脸。有这样一种解决方案，该方案可以让计算机从经验中学习，并根据层次化的概念体系来理解世界，而每个概念则通过与某些相对简单的概念之间的关系来定义。让计算机从经验 获取知识，可以避免由人类来给计算机形式化地指定它需要的所有知识。层次化的概念让计算机构建较简单的概念来学习复杂概念。如果绘制出这些概念如何建立在彼此之上的图，我们将得到一张'深'（层次很多）的图。基于这个原因，我们称这种方法为AI 深度学习。"
   ]
  },
  {
   "cell_type": "markdown",
   "metadata": {},
   "source": [
    "   人工智能的关键挑战就是如何将这些非形式化的知识传达给计算机。尝试过用形式化语言硬编码知识，声明的输入很复杂而且会产生很多意想不到的逻辑错误，这也表明AI需要具备自主获取知识的能力即从原始数据中提取模式，也即机器学习的方法，但是其性能与数据的表示有很大关系，这也是广泛存在的问题。"
   ]
  },
  {
   "cell_type": "markdown",
   "metadata": {},
   "source": [
    "   但是对于很多任务我们很难提取特征 ，比如照片中的车，特征是有车轮，但车轮在照片中的几何形状和表现差异很大。解决这个问题的途径之一是使用机器学习来发掘表示本身，而不仅仅把表示映射到输出，即表示学习。学习到的表示往往比人工设计的更好【自编码器】，当设计特征或设计用于学习特征的算法时，我们的目标通常是分离出能解释观察数据的变差因素(factors of variation)，显然，从原始数据中提取如此高层次、抽象的特征是非常困难的，表示学习貌似并不能解决这个问题。"
   ]
  }
 ],
 "metadata": {
  "kernelspec": {
   "display_name": "Python 3",
   "language": "python",
   "name": "python3"
  },
  "language_info": {
   "codemirror_mode": {
    "name": "ipython",
    "version": 3
   },
   "file_extension": ".py",
   "mimetype": "text/x-python",
   "name": "python",
   "nbconvert_exporter": "python",
   "pygments_lexer": "ipython3",
   "version": "3.6.4"
  }
 },
 "nbformat": 4,
 "nbformat_minor": 2
}
